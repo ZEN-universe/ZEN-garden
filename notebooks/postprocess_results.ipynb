{
 "cells": [
  {
   "cell_type": "code",
   "execution_count": 1,
   "id": "afa01060",
   "metadata": {},
   "source": [
    "%load_ext autoreload\n",
    "%autoreload 2"
   ],
   "outputs": []
  },
  {
   "cell_type": "code",
   "execution_count": 2,
   "id": "3920350b",
   "metadata": {},
   "source": [
    "%matplotlib inline\n",
    "\n",
    "from pprint import pprint\n",
    "from zen_garden.postprocess.results import Results"
   ],
   "outputs": []
  },
  {
   "cell_type": "markdown",
   "id": "8b60bf0f",
   "metadata": {},
   "source": [
    "### Working with results of a ZenGarden run\n",
    "\n",
    "This notebook shows some examples on how to handle the results of a `zen-garden` run. It uses the outputs of the tests as examples. Therefore, you need to run the tests via \n",
    "```\n",
    "coverage run --source=\"zen_garden\" -m pytest -v tests/testcases/run_test.py\n",
    "```\n",
    "to get the data."
   ]
  },
  {
   "cell_type": "markdown",
   "id": "5c57a7d1",
   "metadata": {},
   "source": [
    "### Reading in the results\n",
    "\n",
    "The results can be read in using the `Results` class. This will automatically read in all relevant files, independent of the number of scenarios or if the optimization was run with perfect or myopic foresight. However, you should know what type of input you are reading in, as the output of some routines will depend on the type."
   ]
  },
  {
   "cell_type": "code",
   "execution_count": 27,
   "id": "759d7b05",
   "metadata": {},
   "source": [
    "# This has no scenarios and perfect foresight\n",
    "res_basic = Results(\"../outputs/test_1a/\")\n",
    "# Here we have two different scenarios\n",
    "res_scenario = Results(\"../outputs/test_5a/\")\n",
    "# This was run with myopic foresight\n",
    "res_mf = Results(\"../outputs/test_4g/\")\n",
    "# This was run with aggregated time steps and multi-year\n",
    "res_ts = Results(\"../outputs/test_4f/\")\n",
    "#additional multi-scenario results\n",
    "res_scenario_2 = Results(\"../outputs/test_5b\")"
   ],
   "outputs": []
  },
  {
   "cell_type": "markdown",
   "id": "a4b62c61",
   "metadata": {},
   "source": [
    "### Accessing the config\n",
    "\n",
    "The standard dictionaries, i.e. system, analysis, scenarios, solver and dict_sequence_time_steps can be accessed via the results dict."
   ]
  },
  {
   "cell_type": "code",
   "execution_count": 28,
   "id": "31109ec9",
   "metadata": {},
   "source": [
    "# Show the deafult analysis settings\n",
    "pprint(res_basic.results[None][\"analysis\"])\n",
    "# If a scenario analysis has been conducted, the scenario-depending analysis settings can be assessed by using the scenario names\n",
    "pprint(res_scenario.results[\"scenario_1\"][\"analysis\"])"
   ],
   "outputs": []
  },
  {
   "cell_type": "markdown",
   "source": [
    "### Comparing the configs, parameters and variables of two result files\n",
    "\n",
    "You can compare two result objects by using the `compare_configs`, `compare_model_parameters` and `compare_model_variables` classmethods. This can help you to get a fast overview of where two datasets are different and where the reasons for errors lie."
   ],
   "metadata": {
    "collapsed": false
   },
   "id": "2530ff630247abd3"
  },
  {
   "cell_type": "code",
   "execution_count": 33,
   "source": [
    "# difference between configs\n",
    "diff_config = Results.compare_configs([res_basic,res_ts])\n",
    "print(diff_config)\n",
    "#since the config is scenario-dependent, a scenario different from the default case can be specified\n",
    "diff_config = Results.compare_configs([res_scenario, res_scenario_2], scenarios=\"scenario_1\")\n",
    "diff_config"
   ],
   "metadata": {
    "collapsed": false
   },
   "id": "1052cec2df56d0d8",
   "outputs": []
  },
  {
   "cell_type": "code",
   "execution_count": 6,
   "source": [
    "# difference between model params\n",
    "# for larger models, this can take several minutes\n",
    "diff_params = Results.compare_model_parameters([res_ts,res_mf])\n",
    "diff_params"
   ],
   "metadata": {
    "collapsed": false
   },
   "id": "770ada6aad10a42a",
   "outputs": []
  },
  {
   "cell_type": "code",
   "execution_count": 7,
   "source": [
    "# you can also compare the model variable values. However, even a small change in the input data might have a significant impact on the results, which then leads to large differences in the variable values\n",
    "diff_var = Results.compare_model_variables([res_scenario,res_scenario],scenarios=(\"scenario_2\",\"scenario_4\"))\n",
    "diff_var"
   ],
   "metadata": {
    "collapsed": false
   },
   "id": "ff4cf5b38780e54f",
   "outputs": []
  },
  {
   "cell_type": "markdown",
   "id": "899c758d",
   "metadata": {},
   "source": [
    "### Extracting individual data frames\n",
    "There are three main methods to extract component (parameter and variable) values: `get_total`, `get_full_ts`, and `get_df`. It does not matter if the component is a parameter or a variable.\n",
    "\n",
    "You can get the total value of a component for each year by using `get_total`. The full time series of a component is returned by `get_full_ts`. This reverts the time series aggregation and disaggregates the data. If the selected component is indexed by the years (e.g., `capex` or `capacity`), then the returned data is the same as from `get_total`. If you specify a `year`, only the values for this year are returned. You can select a specific `element_name`, which corresponds to the first level of the index, i.e., generally a technology or a carrier.\n",
    "\n",
    "You can either feed `get_total` and `get_full_ts` a dataframe as returned by `get_df` or specify the component name as a string\n",
    "\n",
    "You can access individual data frames from any component with the `get_df` method. However, the behavior differs slightly for the usecases.\n",
    "If the optimization was run with perfect foresight and no scenarios, then the data frame is returned as `pandas.Series`. For myopic foresight, the final dataframe is stiched together from the relevant outputs if the component is set yearly. If multiple scenarios were run, a dictionary containing the data frame for all different scenarios is returned. However, you can specify the scenario in advance, then only a single data frame is returned.\n",
    "\n",
    "Additionally, the method provides a shortcut to save the extracted dataframe directly to a CSV, or in case of different scenarios to a bundle of CSV files."
   ]
  },
  {
   "cell_type": "code",
   "execution_count": 8,
   "id": "a5c033eb",
   "metadata": {},
   "source": [
    "# This will return a single data frame\n",
    "df = res_ts.get_df('flow_import')\n",
    "df"
   ],
   "outputs": []
  },
  {
   "cell_type": "code",
   "execution_count": 9,
   "id": "8a2646b6",
   "metadata": {},
   "source": [
    "# We can calculate the total value of the dataframe\n",
    "res_ts.get_total(df)"
   ],
   "outputs": []
  },
  {
   "cell_type": "code",
   "execution_count": 10,
   "source": [
    "# We can also only specify the name\n",
    "res_ts.get_total(\"flow_import\")"
   ],
   "metadata": {
    "collapsed": false
   },
   "id": "7ef24585c93a05d1",
   "outputs": []
  },
  {
   "cell_type": "code",
   "execution_count": 11,
   "source": [
    "# and also get the full timeseries if we want\n",
    "df_full_ts = res_ts.get_full_ts(\"flow_import\")\n",
    "df_full_ts"
   ],
   "metadata": {
    "collapsed": false
   },
   "id": "747c1192a581c1b9",
   "outputs": []
  },
  {
   "cell_type": "code",
   "execution_count": 12,
   "source": [
    "# you can also save the dataframe directly to a csv:\n",
    "df = res_basic.get_df('carbon_emissions_overshoot', to_csv=\"test\")\n",
    "# this prints out the content of the generated csv (use !cat instead of !type if you're using mac or linux)\n",
    "!type test.csv"
   ],
   "metadata": {
    "collapsed": false
   },
   "id": "852ec5749136d818",
   "outputs": []
  },
  {
   "cell_type": "code",
   "execution_count": 13,
   "source": [
    "# if we have multiple scenarios, all dataframe will be returned in a dict\n",
    "df_dict = res_scenario.get_df('flow_export')\n",
    "pprint(df_dict)"
   ],
   "metadata": {
    "collapsed": false
   },
   "id": "49325a0ea15a043b",
   "outputs": []
  },
  {
   "cell_type": "code",
   "execution_count": 14,
   "source": [
    "# saving this to a csv will create a file for each scenario\n",
    "df_dict = res_scenario.get_df('flow_export', to_csv=\"test2\")\n",
    "# list files and print content of one\n",
    "!echo \"Generated files: \"\n",
    "#(use !ls instead of !dir for mac and linux)\n",
    "!dir test2*\n",
    "!echo\n",
    "!echo \"Output of test2_scenario_1.csv\"\n",
    "#(again, use !cat for mac or linux)\n",
    "!type test2_scenario_1.csv"
   ],
   "metadata": {
    "collapsed": false
   },
   "id": "e73f641c06058eb8",
   "outputs": []
  },
  {
   "cell_type": "code",
   "execution_count": 15,
   "source": [
    "# we can also specify a specific scenario\n",
    "df = res_scenario.get_df('flow_import', scenario=\"scenario_1\")\n",
    "df"
   ],
   "metadata": {
    "collapsed": false
   },
   "id": "320c30121cfb2889",
   "outputs": []
  },
  {
   "cell_type": "code",
   "execution_count": 16,
   "source": [
    "# This will collect the values from the results folders of the different myopic foresight runs\n",
    "df = res_mf.get_df(\"carbon_emissions_cumulative\")\n",
    "df"
   ],
   "metadata": {
    "collapsed": false
   },
   "id": "f5f0109f79e9a2fa",
   "outputs": []
  },
  {
   "cell_type": "markdown",
   "source": [
    "If you enable the calculation of dual variables (e.g, the marginal cost of production of a carrier as the shadow price of the energy balance) in the config with `solver[\"add_duals\"] = True`, you can use `get_dual` to extract the dual variables. Otherwise, it is skipped. `get_dual` uses `get_full_ts`, thus always returns the full disaggregated time series. You must pass the name of the constraint."
   ],
   "metadata": {
    "collapsed": false
   },
   "id": "ffd958a083064068"
  },
  {
   "cell_type": "code",
   "execution_count": 17,
   "source": [
    "res_mf.get_dual(\"constraint_nodal_energy_balance\")"
   ],
   "metadata": {
    "collapsed": false
   },
   "id": "c01a77c82e2d6ace",
   "outputs": []
  },
  {
   "cell_type": "markdown",
   "id": "d93750ec",
   "metadata": {},
   "source": [
    "### How to plot your results\n",
    "\n",
    "The ```Results``` class offers three different plotting functions explained at https://github.com/RRE-ETH/ZEN-garden/discussions/251"
   ]
  },
  {
   "cell_type": "code",
   "execution_count": 18,
   "id": "392024c9",
   "metadata": {},
   "source": [
    "#Create the standard plots of your Results object (e.g. res_ts)\n",
    "res_ts.standard_plots()"
   ],
   "outputs": []
  },
  {
   "cell_type": "code",
   "execution_count": 19,
   "id": "02126edf",
   "metadata": {},
   "source": [
    "#Visualise the energy balance at the node Germany for the carrier heat in year 0\n",
    "res_ts.plot_energy_balance(\"DE\",\"heat\",0)\n",
    "#create a zoom-in\n",
    "res_ts.plot_energy_balance(\"DE\", \"heat\", 0, start_hour=int(8760/2), duration=5*24)\n",
    "#save your figure as a pdf(works identically for all three plot functions)(figure is shown anyway)\n",
    "res_ts.plot_energy_balance(\"DE\", \"heat\", 0, start_hour=int(8760/2), duration=5*24, save_fig=True)\n",
    "#save your figure in another format\n",
    "res_ts.plot_energy_balance(\"DE\", \"heat\", 0, start_hour=int(8760/2), duration=5*24, save_fig=True, file_type=\"png\")"
   ],
   "outputs": []
  },
  {
   "cell_type": "code",
   "execution_count": 20,
   "id": "0cc67249",
   "metadata": {},
   "source": [
    "#Create more customized plots:\n",
    "res_ts.plot(\"flow_conversion_input\")\n",
    "#time adjustments\n",
    "#plot only second year\n",
    "res_ts.plot(\"flow_conversion_input\", year=1)\n",
    "#create zoom-in\n",
    "res_ts.plot(\"flow_conversion_input\", year=1, start_hour=0, duration=500)\n",
    "#use yearly time steps\n",
    "res_ts.plot(\"flow_conversion_input\", yearly=True)"
   ],
   "outputs": []
  },
  {
   "cell_type": "code",
   "execution_count": 21,
   "id": "2c5b0c3f",
   "metadata": {},
   "source": [
    "res_ts.plot(\"capacity\")\n",
    "#data adjustments\n",
    "#plot specific technology type\n",
    "res_ts.plot(\"capacity\", tech_type=\"storage\")\n",
    "#plot charging/discharging capacities\n",
    "res_ts.plot(\"capacity\", tech_type=\"storage_power\")\n",
    "#plot all nodes separately\n",
    "res_ts.plot(\"capacity\", tech_type=\"conversion\", node_edit=\"all\")\n",
    "#plot data of a single node\n",
    "res_ts.plot(\"capacity\", node_edit=\"CH\")"
   ],
   "outputs": []
  },
  {
   "cell_type": "code",
   "execution_count": 22,
   "id": "016017bb",
   "metadata": {},
   "source": [
    "res_ts.plot(\"flow_conversion_output\")\n",
    "#sum technologies of identical output carrier (effect can't really be seen as there is only one tech in the dataset)\n",
    "res_ts.plot(\"flow_conversion_output\", sum_techs=True)\n",
    "#extract technologies of specific reference carrier (effect can't really be seen as there is only one tech in the dataset)\n",
    "res_ts.plot(\"flow_conversion_output\", reference_carrier=\"heat\")"
   ],
   "outputs": []
  },
  {
   "cell_type": "code",
   "execution_count": 23,
   "id": "7d3bfb77",
   "metadata": {},
   "source": [
    "#create plot of multi-scenario dataset (standard scenario is plotted)\n",
    "res_scenario.plot(\"flow_conversion_input\")\n",
    "#specify another scenario\n",
    "res_scenario.plot(\"flow_conversion_input\", scenario=\"scenario_1\")"
   ],
   "outputs": []
  },
  {
   "cell_type": "code",
   "execution_count": null,
   "source": [],
   "metadata": {
    "collapsed": false
   },
   "id": "d2b11f2dc71e5a2d",
   "outputs": []
  }
 ],
 "metadata": {
  "kernelspec": {
   "name": "python3",
   "language": "python",
   "display_name": "Python 3 (ipykernel)"
  },
  "language_info": {
   "codemirror_mode": {
    "name": "ipython",
    "version": 3
   },
   "file_extension": ".py",
   "mimetype": "text/x-python",
   "name": "python",
   "nbconvert_exporter": "python",
   "pygments_lexer": "ipython3",
   "version": "3.11.0"
  }
 },
 "nbformat": 4,
 "nbformat_minor": 5
}
