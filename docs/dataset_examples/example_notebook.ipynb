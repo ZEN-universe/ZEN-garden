{
 "cells": [
  {
   "cell_type": "code",
   "execution_count": null,
   "id": "initial_id",
   "metadata": {
    "jupyter": {
     "is_executing": true
    }
   },
   "outputs": [],
   "source": [
    "import os\n",
    "from zen_garden.postprocess.results import Results"
   ]
  },
  {
   "cell_type": "code",
   "execution_count": null,
   "id": "eb0d703414fecf6d",
   "metadata": {},
   "outputs": [],
   "source": [
    "# get results\n",
    "dataset_name = '<dataset_name>'\n",
    "output_path = os.path.join(\"outputs\",dataset_name)\n",
    "r = Results(output_path)"
   ]
  },
  {
   "cell_type": "code",
   "execution_count": null,
   "id": "b40ce3a8",
   "metadata": {},
   "outputs": [],
   "source": [
    "# get capacity \n",
    "capacity = r.get_total('capacity')\n",
    "capacity"
   ]
  },
  {
   "cell_type": "code",
   "execution_count": null,
   "id": "90ef329f",
   "metadata": {},
   "outputs": [],
   "source": [
    "# get annual demand\n",
    "demand_annual = r.get_total(\"demand\")\n",
    "demand_annual"
   ]
  },
  {
   "cell_type": "code",
   "execution_count": null,
   "id": "305d715b",
   "metadata": {},
   "outputs": [],
   "source": [
    "# get demand time series\n",
    "demand_timeseries = r.get_full_ts(\"demand\")\n",
    "demand_timeseries"
   ]
  },
  {
   "cell_type": "code",
   "execution_count": null,
   "id": "a72057c8",
   "metadata": {},
   "outputs": [],
   "source": [
    "# get units of capacity\n",
    "capacity_units = r.get_unit(\"carbon_intensity_carrier_import\")\n",
    "capacity_units"
   ]
  }
 ],
 "metadata": {
  "kernelspec": {
   "display_name": "PyCharm (02-ZEN)",
   "language": "python",
   "name": "pycharm-e3635a5b"
  },
  "language_info": {
   "codemirror_mode": {
    "name": "ipython",
    "version": 3
   },
   "file_extension": ".py",
   "mimetype": "text/x-python",
   "name": "python",
   "nbconvert_exporter": "python",
   "pygments_lexer": "ipython3",
   "version": "3.11.9"
  }
 },
 "nbformat": 4,
 "nbformat_minor": 5
}
